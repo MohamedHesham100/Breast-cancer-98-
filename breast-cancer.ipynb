{
 "cells": [
  {
   "cell_type": "code",
   "execution_count": 1,
   "id": "26463b18",
   "metadata": {
    "execution": {
     "iopub.execute_input": "2024-08-25T01:40:43.473408Z",
     "iopub.status.busy": "2024-08-25T01:40:43.472949Z",
     "iopub.status.idle": "2024-08-25T01:40:46.903646Z",
     "shell.execute_reply": "2024-08-25T01:40:46.902588Z"
    },
    "papermill": {
     "duration": 3.445562,
     "end_time": "2024-08-25T01:40:46.906250",
     "exception": false,
     "start_time": "2024-08-25T01:40:43.460688",
     "status": "completed"
    },
    "tags": []
   },
   "outputs": [],
   "source": [
    "import pandas as pd\n",
    "import numpy as np\n",
    "import seaborn as sns\n",
    "import matplotlib.pyplot as plt\n",
    "import missingno as msno\n",
    "from sklearn.preprocessing import LabelEncoder\n",
    "\n",
    "import warnings\n",
    "warnings.filterwarnings('ignore')\n",
    "\n",
    "from sklearn.datasets import load_breast_cancer\n",
    "from sklearn.preprocessing import MinMaxScaler\n",
    "from sklearn.model_selection import train_test_split, cross_val_score\n",
    "from sklearn.discriminant_analysis import LinearDiscriminantAnalysis\n",
    "\n",
    "#Models\n",
    "from sklearn.neighbors import KNeighborsClassifier\n",
    "from sklearn.svm import SVC\n",
    "from xgboost import XGBClassifier\n",
    "from sklearn.ensemble import GradientBoostingClassifier, RandomForestClassifier\n",
    "from sklearn.linear_model import LogisticRegression\n",
    "\n",
    "from imblearn.over_sampling import RandomOverSampler\n",
    "\n",
    "#Model Performance Evaluators\n",
    "from sklearn.metrics import confusion_matrix, classification_report, roc_curve, roc_auc_score\n",
    "\n",
    "sns.set()\n",
    "plt.style.use('ggplot')"
   ]
  },
  {
   "cell_type": "code",
   "execution_count": 2,
   "id": "fd30dd6c",
   "metadata": {
    "execution": {
     "iopub.execute_input": "2024-08-25T01:40:46.926840Z",
     "iopub.status.busy": "2024-08-25T01:40:46.926242Z",
     "iopub.status.idle": "2024-08-25T01:40:46.965309Z",
     "shell.execute_reply": "2024-08-25T01:40:46.963704Z"
    },
    "papermill": {
     "duration": 0.052208,
     "end_time": "2024-08-25T01:40:46.967934",
     "exception": false,
     "start_time": "2024-08-25T01:40:46.915726",
     "status": "completed"
    },
    "tags": []
   },
   "outputs": [],
   "source": [
    "df = pd.read_csv('/kaggle/input/breast-cancer/Breast_Cancer.csv')"
   ]
  },
  {
   "cell_type": "code",
   "execution_count": 3,
   "id": "bc948d0d",
   "metadata": {
    "execution": {
     "iopub.execute_input": "2024-08-25T01:40:46.988785Z",
     "iopub.status.busy": "2024-08-25T01:40:46.987918Z",
     "iopub.status.idle": "2024-08-25T01:40:47.017507Z",
     "shell.execute_reply": "2024-08-25T01:40:47.016403Z"
    },
    "papermill": {
     "duration": 0.042538,
     "end_time": "2024-08-25T01:40:47.019796",
     "exception": false,
     "start_time": "2024-08-25T01:40:46.977258",
     "status": "completed"
    },
    "tags": []
   },
   "outputs": [
    {
     "data": {
      "text/html": [
       "<div>\n",
       "<style scoped>\n",
       "    .dataframe tbody tr th:only-of-type {\n",
       "        vertical-align: middle;\n",
       "    }\n",
       "\n",
       "    .dataframe tbody tr th {\n",
       "        vertical-align: top;\n",
       "    }\n",
       "\n",
       "    .dataframe thead th {\n",
       "        text-align: right;\n",
       "    }\n",
       "</style>\n",
       "<table border=\"1\" class=\"dataframe\">\n",
       "  <thead>\n",
       "    <tr style=\"text-align: right;\">\n",
       "      <th></th>\n",
       "      <th>Age</th>\n",
       "      <th>Race</th>\n",
       "      <th>Marital Status</th>\n",
       "      <th>T Stage</th>\n",
       "      <th>N Stage</th>\n",
       "      <th>6th Stage</th>\n",
       "      <th>differentiate</th>\n",
       "      <th>Grade</th>\n",
       "      <th>A Stage</th>\n",
       "      <th>Tumor Size</th>\n",
       "      <th>Estrogen Status</th>\n",
       "      <th>Progesterone Status</th>\n",
       "      <th>Regional Node Examined</th>\n",
       "      <th>Reginol Node Positive</th>\n",
       "      <th>Survival Months</th>\n",
       "      <th>Status</th>\n",
       "    </tr>\n",
       "  </thead>\n",
       "  <tbody>\n",
       "    <tr>\n",
       "      <th>0</th>\n",
       "      <td>68</td>\n",
       "      <td>White</td>\n",
       "      <td>Married</td>\n",
       "      <td>T1</td>\n",
       "      <td>N1</td>\n",
       "      <td>IIA</td>\n",
       "      <td>Poorly differentiated</td>\n",
       "      <td>3</td>\n",
       "      <td>Regional</td>\n",
       "      <td>4</td>\n",
       "      <td>Positive</td>\n",
       "      <td>Positive</td>\n",
       "      <td>24</td>\n",
       "      <td>1</td>\n",
       "      <td>60</td>\n",
       "      <td>Alive</td>\n",
       "    </tr>\n",
       "    <tr>\n",
       "      <th>1</th>\n",
       "      <td>50</td>\n",
       "      <td>White</td>\n",
       "      <td>Married</td>\n",
       "      <td>T2</td>\n",
       "      <td>N2</td>\n",
       "      <td>IIIA</td>\n",
       "      <td>Moderately differentiated</td>\n",
       "      <td>2</td>\n",
       "      <td>Regional</td>\n",
       "      <td>35</td>\n",
       "      <td>Positive</td>\n",
       "      <td>Positive</td>\n",
       "      <td>14</td>\n",
       "      <td>5</td>\n",
       "      <td>62</td>\n",
       "      <td>Alive</td>\n",
       "    </tr>\n",
       "    <tr>\n",
       "      <th>2</th>\n",
       "      <td>58</td>\n",
       "      <td>White</td>\n",
       "      <td>Divorced</td>\n",
       "      <td>T3</td>\n",
       "      <td>N3</td>\n",
       "      <td>IIIC</td>\n",
       "      <td>Moderately differentiated</td>\n",
       "      <td>2</td>\n",
       "      <td>Regional</td>\n",
       "      <td>63</td>\n",
       "      <td>Positive</td>\n",
       "      <td>Positive</td>\n",
       "      <td>14</td>\n",
       "      <td>7</td>\n",
       "      <td>75</td>\n",
       "      <td>Alive</td>\n",
       "    </tr>\n",
       "    <tr>\n",
       "      <th>3</th>\n",
       "      <td>58</td>\n",
       "      <td>White</td>\n",
       "      <td>Married</td>\n",
       "      <td>T1</td>\n",
       "      <td>N1</td>\n",
       "      <td>IIA</td>\n",
       "      <td>Poorly differentiated</td>\n",
       "      <td>3</td>\n",
       "      <td>Regional</td>\n",
       "      <td>18</td>\n",
       "      <td>Positive</td>\n",
       "      <td>Positive</td>\n",
       "      <td>2</td>\n",
       "      <td>1</td>\n",
       "      <td>84</td>\n",
       "      <td>Alive</td>\n",
       "    </tr>\n",
       "    <tr>\n",
       "      <th>4</th>\n",
       "      <td>47</td>\n",
       "      <td>White</td>\n",
       "      <td>Married</td>\n",
       "      <td>T2</td>\n",
       "      <td>N1</td>\n",
       "      <td>IIB</td>\n",
       "      <td>Poorly differentiated</td>\n",
       "      <td>3</td>\n",
       "      <td>Regional</td>\n",
       "      <td>41</td>\n",
       "      <td>Positive</td>\n",
       "      <td>Positive</td>\n",
       "      <td>3</td>\n",
       "      <td>1</td>\n",
       "      <td>50</td>\n",
       "      <td>Alive</td>\n",
       "    </tr>\n",
       "  </tbody>\n",
       "</table>\n",
       "</div>"
      ],
      "text/plain": [
       "   Age   Race Marital Status T Stage  N Stage 6th Stage  \\\n",
       "0   68  White        Married       T1      N1       IIA   \n",
       "1   50  White        Married       T2      N2      IIIA   \n",
       "2   58  White       Divorced       T3      N3      IIIC   \n",
       "3   58  White        Married       T1      N1       IIA   \n",
       "4   47  White        Married       T2      N1       IIB   \n",
       "\n",
       "               differentiate Grade   A Stage  Tumor Size Estrogen Status  \\\n",
       "0      Poorly differentiated     3  Regional           4        Positive   \n",
       "1  Moderately differentiated     2  Regional          35        Positive   \n",
       "2  Moderately differentiated     2  Regional          63        Positive   \n",
       "3      Poorly differentiated     3  Regional          18        Positive   \n",
       "4      Poorly differentiated     3  Regional          41        Positive   \n",
       "\n",
       "  Progesterone Status  Regional Node Examined  Reginol Node Positive  \\\n",
       "0            Positive                      24                      1   \n",
       "1            Positive                      14                      5   \n",
       "2            Positive                      14                      7   \n",
       "3            Positive                       2                      1   \n",
       "4            Positive                       3                      1   \n",
       "\n",
       "   Survival Months Status  \n",
       "0               60  Alive  \n",
       "1               62  Alive  \n",
       "2               75  Alive  \n",
       "3               84  Alive  \n",
       "4               50  Alive  "
      ]
     },
     "execution_count": 3,
     "metadata": {},
     "output_type": "execute_result"
    }
   ],
   "source": [
    "df.head()"
   ]
  },
  {
   "cell_type": "code",
   "execution_count": 4,
   "id": "044409f6",
   "metadata": {
    "execution": {
     "iopub.execute_input": "2024-08-25T01:40:47.040863Z",
     "iopub.status.busy": "2024-08-25T01:40:47.040432Z",
     "iopub.status.idle": "2024-08-25T01:40:47.047117Z",
     "shell.execute_reply": "2024-08-25T01:40:47.046122Z"
    },
    "papermill": {
     "duration": 0.019811,
     "end_time": "2024-08-25T01:40:47.049377",
     "exception": false,
     "start_time": "2024-08-25T01:40:47.029566",
     "status": "completed"
    },
    "tags": []
   },
   "outputs": [
    {
     "data": {
      "text/plain": [
       "(4024, 16)"
      ]
     },
     "execution_count": 4,
     "metadata": {},
     "output_type": "execute_result"
    }
   ],
   "source": [
    "df.shape"
   ]
  },
  {
   "cell_type": "code",
   "execution_count": 5,
   "id": "8c8fdfd9",
   "metadata": {
    "execution": {
     "iopub.execute_input": "2024-08-25T01:40:47.070838Z",
     "iopub.status.busy": "2024-08-25T01:40:47.070404Z",
     "iopub.status.idle": "2024-08-25T01:40:47.083631Z",
     "shell.execute_reply": "2024-08-25T01:40:47.082471Z"
    },
    "papermill": {
     "duration": 0.026935,
     "end_time": "2024-08-25T01:40:47.085922",
     "exception": false,
     "start_time": "2024-08-25T01:40:47.058987",
     "status": "completed"
    },
    "tags": []
   },
   "outputs": [
    {
     "data": {
      "text/plain": [
       "Age                       0\n",
       "Race                      0\n",
       "Marital Status            0\n",
       "T Stage                   0\n",
       "N Stage                   0\n",
       "6th Stage                 0\n",
       "differentiate             0\n",
       "Grade                     0\n",
       "A Stage                   0\n",
       "Tumor Size                0\n",
       "Estrogen Status           0\n",
       "Progesterone Status       0\n",
       "Regional Node Examined    0\n",
       "Reginol Node Positive     0\n",
       "Survival Months           0\n",
       "Status                    0\n",
       "dtype: int64"
      ]
     },
     "execution_count": 5,
     "metadata": {},
     "output_type": "execute_result"
    }
   ],
   "source": [
    "df.isna().sum()"
   ]
  },
  {
   "cell_type": "code",
   "execution_count": 6,
   "id": "d7f096cd",
   "metadata": {
    "execution": {
     "iopub.execute_input": "2024-08-25T01:40:47.107598Z",
     "iopub.status.busy": "2024-08-25T01:40:47.107144Z",
     "iopub.status.idle": "2024-08-25T01:40:47.991406Z",
     "shell.execute_reply": "2024-08-25T01:40:47.990270Z"
    },
    "papermill": {
     "duration": 0.897957,
     "end_time": "2024-08-25T01:40:47.994040",
     "exception": false,
     "start_time": "2024-08-25T01:40:47.096083",
     "status": "completed"
    },
    "tags": []
   },
   "outputs": [
    {
     "data": {
      "text/plain": [
       "<Axes: >"
      ]
     },
     "execution_count": 6,
     "metadata": {},
     "output_type": "execute_result"
    },
    {
     "data": {
      "image/png": "[encoded data removed]",
      "text/plain": [
       "<Figure size 640x480 with 2 Axes>"
      ]
     },
     "metadata": {},
     "output_type": "display_data"
    }
   ],
   "source": [
    "sns.heatmap(df.isna())"
   ]
  },
  {
   "cell_type": "code",
   "execution_count": 7,
   "id": "eac44848",
   "metadata": {
    "execution": {
     "iopub.execute_input": "2024-08-25T01:40:48.018520Z",
     "iopub.status.busy": "2024-08-25T01:40:48.017937Z",
     "iopub.status.idle": "2024-08-25T01:40:48.034780Z",
     "shell.execute_reply": "2024-08-25T01:40:48.033726Z"
    },
    "papermill": {
     "duration": 0.031041,
     "end_time": "2024-08-25T01:40:48.037003",
     "exception": false,
     "start_time": "2024-08-25T01:40:48.005962",
     "status": "completed"
    },
    "tags": []
   },
   "outputs": [
    {
     "data": {
      "text/plain": [
       "1"
      ]
     },
     "execution_count": 7,
     "metadata": {},
     "output_type": "execute_result"
    }
   ],
   "source": [
    "df.duplicated().sum()"
   ]
  },
  {
   "cell_type": "code",
   "execution_count": 8,
   "id": "e4e0957c",
   "metadata": {
    "execution": {
     "iopub.execute_input": "2024-08-25T01:40:48.061005Z",
     "iopub.status.busy": "2024-08-25T01:40:48.060036Z",
     "iopub.status.idle": "2024-08-25T01:40:48.074317Z",
     "shell.execute_reply": "2024-08-25T01:40:48.073330Z"
    },
    "papermill": {
     "duration": 0.02897,
     "end_time": "2024-08-25T01:40:48.076881",
     "exception": false,
     "start_time": "2024-08-25T01:40:48.047911",
     "status": "completed"
    },
    "tags": []
   },
   "outputs": [],
   "source": [
    "df.drop_duplicates(inplace = True)\n"
   ]
  },
  {
   "cell_type": "code",
   "execution_count": 9,
   "id": "69f2cc46",
   "metadata": {
    "execution": {
     "iopub.execute_input": "2024-08-25T01:40:48.101220Z",
     "iopub.status.busy": "2024-08-25T01:40:48.100787Z",
     "iopub.status.idle": "2024-08-25T01:40:48.113738Z",
     "shell.execute_reply": "2024-08-25T01:40:48.112640Z"
    },
    "papermill": {
     "duration": 0.027614,
     "end_time": "2024-08-25T01:40:48.115863",
     "exception": false,
     "start_time": "2024-08-25T01:40:48.088249",
     "status": "completed"
    },
    "tags": []
   },
   "outputs": [
    {
     "data": {
      "text/plain": [
       "0"
      ]
     },
     "execution_count": 9,
     "metadata": {},
     "output_type": "execute_result"
    }
   ],
   "source": [
    "df.duplicated().sum()"
   ]
  },
  {
   "cell_type": "code",
   "execution_count": 10,
   "id": "556a4027",
   "metadata": {
    "execution": {
     "iopub.execute_input": "2024-08-25T01:40:48.139226Z",
     "iopub.status.busy": "2024-08-25T01:40:48.138788Z",
     "iopub.status.idle": "2024-08-25T01:40:48.158629Z",
     "shell.execute_reply": "2024-08-25T01:40:48.157564Z"
    },
    "papermill": {
     "duration": 0.034411,
     "end_time": "2024-08-25T01:40:48.161052",
     "exception": false,
     "start_time": "2024-08-25T01:40:48.126641",
     "status": "completed"
    },
    "tags": []
   },
   "outputs": [
    {
     "name": "stdout",
     "output_type": "stream",
     "text": [
      "<class 'pandas.core.frame.DataFrame'>\n",
      "Index: 4023 entries, 0 to 4023\n",
      "Data columns (total 16 columns):\n",
      " #   Column                  Non-Null Count  Dtype \n",
      "---  ------                  --------------  ----- \n",
      " 0   Age                     4023 non-null   int64 \n",
      " 1   Race                    4023 non-null   object\n",
      " 2   Marital Status          4023 non-null   object\n",
      " 3   T Stage                 4023 non-null   object\n",
      " 4   N Stage                 4023 non-null   object\n",
      " 5   6th Stage               4023 non-null   object\n",
      " 6   differentiate           4023 non-null   object\n",
      " 7   Grade                   4023 non-null   object\n",
      " 8   A Stage                 4023 non-null   object\n",
      " 9   Tumor Size              4023 non-null   int64 \n",
      " 10  Estrogen Status         4023 non-null   object\n",
      " 11  Progesterone Status     4023 non-null   object\n",
      " 12  Regional Node Examined  4023 non-null   int64 \n",
      " 13  Reginol Node Positive   4023 non-null   int64 \n",
      " 14  Survival Months         4023 non-null   int64 \n",
      " 15  Status                  4023 non-null   object\n",
      "dtypes: int64(5), object(11)\n",
      "memory usage: 534.3+ KB\n"
     ]
    }
   ],
   "source": [
    "df.info()"
   ]
  },
  {
   "cell_type": "code",
   "execution_count": 11,
   "id": "a92df1bf",
   "metadata": {
    "execution": {
     "iopub.execute_input": "2024-08-25T01:40:48.184720Z",
     "iopub.status.busy": "2024-08-25T01:40:48.184290Z",
     "iopub.status.idle": "2024-08-25T01:40:48.210348Z",
     "shell.execute_reply": "2024-08-25T01:40:48.209149Z"
    },
    "papermill": {
     "duration": 0.040877,
     "end_time": "2024-08-25T01:40:48.212890",
     "exception": false,
     "start_time": "2024-08-25T01:40:48.172013",
     "status": "completed"
    },
    "tags": []
   },
   "outputs": [
    {
     "data": {
      "text/html": [
       "<div>\n",
       "<style scoped>\n",
       "    .dataframe tbody tr th:only-of-type {\n",
       "        vertical-align: middle;\n",
       "    }\n",
       "\n",
       "    .dataframe tbody tr th {\n",
       "        vertical-align: top;\n",
       "    }\n",
       "\n",
       "    .dataframe thead th {\n",
       "        text-align: right;\n",
       "    }\n",
       "</style>\n",
       "<table border=\"1\" class=\"dataframe\">\n",
       "  <thead>\n",
       "    <tr style=\"text-align: right;\">\n",
       "      <th></th>\n",
       "      <th>Age</th>\n",
       "      <th>Tumor Size</th>\n",
       "      <th>Regional Node Examined</th>\n",
       "      <th>Reginol Node Positive</th>\n",
       "      <th>Survival Months</th>\n",
       "    </tr>\n",
       "  </thead>\n",
       "  <tbody>\n",
       "    <tr>\n",
       "      <th>count</th>\n",
       "      <td>4023.000000</td>\n",
       "      <td>4023.000000</td>\n",
       "      <td>4023.000000</td>\n",
       "      <td>4023.000000</td>\n",
       "      <td>4023.000000</td>\n",
       "    </tr>\n",
       "    <tr>\n",
       "      <th>mean</th>\n",
       "      <td>53.969923</td>\n",
       "      <td>30.477007</td>\n",
       "      <td>14.358439</td>\n",
       "      <td>4.158837</td>\n",
       "      <td>71.301765</td>\n",
       "    </tr>\n",
       "    <tr>\n",
       "      <th>std</th>\n",
       "      <td>8.963118</td>\n",
       "      <td>21.121253</td>\n",
       "      <td>8.100241</td>\n",
       "      <td>5.109724</td>\n",
       "      <td>22.923009</td>\n",
       "    </tr>\n",
       "    <tr>\n",
       "      <th>min</th>\n",
       "      <td>30.000000</td>\n",
       "      <td>1.000000</td>\n",
       "      <td>1.000000</td>\n",
       "      <td>1.000000</td>\n",
       "      <td>1.000000</td>\n",
       "    </tr>\n",
       "    <tr>\n",
       "      <th>25%</th>\n",
       "      <td>47.000000</td>\n",
       "      <td>16.000000</td>\n",
       "      <td>9.000000</td>\n",
       "      <td>1.000000</td>\n",
       "      <td>56.000000</td>\n",
       "    </tr>\n",
       "    <tr>\n",
       "      <th>50%</th>\n",
       "      <td>54.000000</td>\n",
       "      <td>25.000000</td>\n",
       "      <td>14.000000</td>\n",
       "      <td>2.000000</td>\n",
       "      <td>73.000000</td>\n",
       "    </tr>\n",
       "    <tr>\n",
       "      <th>75%</th>\n",
       "      <td>61.000000</td>\n",
       "      <td>38.000000</td>\n",
       "      <td>19.000000</td>\n",
       "      <td>5.000000</td>\n",
       "      <td>90.000000</td>\n",
       "    </tr>\n",
       "    <tr>\n",
       "      <th>max</th>\n",
       "      <td>69.000000</td>\n",
       "      <td>140.000000</td>\n",
       "      <td>61.000000</td>\n",
       "      <td>46.000000</td>\n",
       "      <td>107.000000</td>\n",
       "    </tr>\n",
       "  </tbody>\n",
       "</table>\n",
       "</div>"
      ],
      "text/plain": [
       "               Age   Tumor Size  Regional Node Examined  \\\n",
       "count  4023.000000  4023.000000             4023.000000   \n",
       "mean     53.969923    30.477007               14.358439   \n",
       "std       8.963118    21.121253                8.100241   \n",
       "min      30.000000     1.000000                1.000000   \n",
       "25%      47.000000    16.000000                9.000000   \n",
       "50%      54.000000    25.000000               14.000000   \n",
       "75%      61.000000    38.000000               19.000000   \n",
       "max      69.000000   140.000000               61.000000   \n",
       "\n",
       "       Reginol Node Positive  Survival Months  \n",
       "count            4023.000000      4023.000000  \n",
       "mean                4.158837        71.301765  \n",
       "std                 5.109724        22.923009  \n",
       "min                 1.000000         1.000000  \n",
       "25%                 1.000000        56.000000  \n",
       "50%                 2.000000        73.000000  \n",
       "75%                 5.000000        90.000000  \n",
       "max                46.000000       107.000000  "
      ]
     },
     "execution_count": 11,
     "metadata": {},
     "output_type": "execute_result"
    }
   ],
   "source": [
    "df.describe()"
   ]
  },
  {
   "cell_type": "code",
   "execution_count": null,
   "id": "4467aed7",
   "metadata": {
    "papermill": {
     "duration": 0.011038,
     "end_time": "2024-08-25T01:40:48.235811",
     "exception": false,
     "start_time": "2024-08-25T01:40:48.224773",
     "status": "completed"
    },
    "tags": []
   },
   "outputs": [],
   "source": []
  },
  {
   "cell_type": "markdown",
   "id": "dbcdf1cf",
   "metadata": {
    "papermill": {
     "duration": 0.010899,
     "end_time": "2024-08-25T01:40:48.257801",
     "exception": false,
     "start_time": "2024-08-25T01:40:48.246902",
     "status": "completed"
    },
    "tags": []
   },
   "source": [
    "## ANALYSIS"
   ]
  },
  {
   "cell_type": "code",
   "execution_count": 12,
   "id": "6b79b39c",
   "metadata": {
    "execution": {
     "iopub.execute_input": "2024-08-25T01:40:48.281818Z",
     "iopub.status.busy": "2024-08-25T01:40:48.281389Z",
     "iopub.status.idle": "2024-08-25T01:40:48.290669Z",
     "shell.execute_reply": "2024-08-25T01:40:48.289587Z"
    },
    "papermill": {
     "duration": 0.023835,
     "end_time": "2024-08-25T01:40:48.292737",
     "exception": false,
     "start_time": "2024-08-25T01:40:48.268902",
     "status": "completed"
    },
    "tags": []
   },
   "outputs": [
    {
     "data": {
      "text/plain": [
       "Status\n",
       "Alive    3407\n",
       "Dead      616\n",
       "Name: count, dtype: int64"
      ]
     },
     "execution_count": 12,
     "metadata": {},
     "output_type": "execute_result"
    }
   ],
   "source": [
    "df['Status'].value_counts()"
   ]
  },
  {
   "cell_type": "code",
   "execution_count": 13,
   "id": "a57360c7",
   "metadata": {
    "execution": {
     "iopub.execute_input": "2024-08-25T01:40:48.318653Z",
     "iopub.status.busy": "2024-08-25T01:40:48.318216Z",
     "iopub.status.idle": "2024-08-25T01:40:48.595436Z",
     "shell.execute_reply": "2024-08-25T01:40:48.594026Z"
    },
    "papermill": {
     "duration": 0.293434,
     "end_time": "2024-08-25T01:40:48.597826",
     "exception": false,
     "start_time": "2024-08-25T01:40:48.304392",
     "status": "completed"
    },
    "tags": []
   },
   "outputs": [
    {
     "data": {
      "image/png": "[encoded data removed]",
      "text/plain": [
       "<Figure size 1000x800 with 1 Axes>"
      ]
     },
     "metadata": {},
     "output_type": "display_data"
    }
   ],
   "source": [
    "plt.figure(figsize=(10, 8))\n",
    "\n",
    "vis=sns.countplot(x = df['Status'] , data = df , palette = ['b','r'])\n",
    "\n",
    "for p in vis.patches:\n",
    "    vis.text(p.get_x() + p.get_width() / 2., p.get_height() + 3 , f'{int(p.get_height())}', ha=\"center\")\n",
    "\n",
    "plt.title('Target Distribution')\n",
    "plt.show()"
   ]
  },
  {
   "cell_type": "code",
   "execution_count": null,
   "id": "1a54da20",
   "metadata": {
    "papermill": {
     "duration": 0.012182,
     "end_time": "2024-08-25T01:40:48.622286",
     "exception": false,
     "start_time": "2024-08-25T01:40:48.610104",
     "status": "completed"
    },
    "tags": []
   },
   "outputs": [],
   "source": []
  },
  {
   "cell_type": "markdown",
   "id": "49ce6430",
   "metadata": {
    "papermill": {
     "duration": 0.011368,
     "end_time": "2024-08-25T01:40:48.645319",
     "exception": false,
     "start_time": "2024-08-25T01:40:48.633951",
     "status": "completed"
    },
    "tags": []
   },
   "source": [
    "## transform data"
   ]
  },
  {
   "cell_type": "code",
   "execution_count": 14,
   "id": "c73ce6fc",
   "metadata": {
    "execution": {
     "iopub.execute_input": "2024-08-25T01:40:48.670452Z",
     "iopub.status.busy": "2024-08-25T01:40:48.669859Z",
     "iopub.status.idle": "2024-08-25T01:40:48.675020Z",
     "shell.execute_reply": "2024-08-25T01:40:48.673919Z"
    },
    "papermill": {
     "duration": 0.020331,
     "end_time": "2024-08-25T01:40:48.677275",
     "exception": false,
     "start_time": "2024-08-25T01:40:48.656944",
     "status": "completed"
    },
    "tags": []
   },
   "outputs": [],
   "source": [
    "lab =LabelEncoder()\n"
   ]
  },
  {
   "cell_type": "code",
   "execution_count": 15,
   "id": "3ce20ae2",
   "metadata": {
    "execution": {
     "iopub.execute_input": "2024-08-25T01:40:48.703323Z",
     "iopub.status.busy": "2024-08-25T01:40:48.702280Z",
     "iopub.status.idle": "2024-08-25T01:40:48.708662Z",
     "shell.execute_reply": "2024-08-25T01:40:48.707614Z"
    },
    "papermill": {
     "duration": 0.021689,
     "end_time": "2024-08-25T01:40:48.710762",
     "exception": false,
     "start_time": "2024-08-25T01:40:48.689073",
     "status": "completed"
    },
    "tags": []
   },
   "outputs": [],
   "source": [
    "obj = df.select_dtypes(include= 'object')\n",
    "non_obj = df.select_dtypes(exclude= 'object')"
   ]
  },
  {
   "cell_type": "code",
   "execution_count": 16,
   "id": "d1eaa6b1",
   "metadata": {
    "execution": {
     "iopub.execute_input": "2024-08-25T01:40:48.736423Z",
     "iopub.status.busy": "2024-08-25T01:40:48.735529Z",
     "iopub.status.idle": "2024-08-25T01:40:48.753524Z",
     "shell.execute_reply": "2024-08-25T01:40:48.752498Z"
    },
    "papermill": {
     "duration": 0.033236,
     "end_time": "2024-08-25T01:40:48.755724",
     "exception": false,
     "start_time": "2024-08-25T01:40:48.722488",
     "status": "completed"
    },
    "tags": []
   },
   "outputs": [
    {
     "data": {
      "text/html": [
       "<div>\n",
       "<style scoped>\n",
       "    .dataframe tbody tr th:only-of-type {\n",
       "        vertical-align: middle;\n",
       "    }\n",
       "\n",
       "    .dataframe tbody tr th {\n",
       "        vertical-align: top;\n",
       "    }\n",
       "\n",
       "    .dataframe thead th {\n",
       "        text-align: right;\n",
       "    }\n",
       "</style>\n",
       "<table border=\"1\" class=\"dataframe\">\n",
       "  <thead>\n",
       "    <tr style=\"text-align: right;\">\n",
       "      <th></th>\n",
       "      <th>Race</th>\n",
       "      <th>Marital Status</th>\n",
       "      <th>T Stage</th>\n",
       "      <th>N Stage</th>\n",
       "      <th>6th Stage</th>\n",
       "      <th>differentiate</th>\n",
       "      <th>Grade</th>\n",
       "      <th>A Stage</th>\n",
       "      <th>Estrogen Status</th>\n",
       "      <th>Progesterone Status</th>\n",
       "      <th>Status</th>\n",
       "    </tr>\n",
       "  </thead>\n",
       "  <tbody>\n",
       "    <tr>\n",
       "      <th>0</th>\n",
       "      <td>White</td>\n",
       "      <td>Married</td>\n",
       "      <td>T1</td>\n",
       "      <td>N1</td>\n",
       "      <td>IIA</td>\n",
       "      <td>Poorly differentiated</td>\n",
       "      <td>3</td>\n",
       "      <td>Regional</td>\n",
       "      <td>Positive</td>\n",
       "      <td>Positive</td>\n",
       "      <td>Alive</td>\n",
       "    </tr>\n",
       "    <tr>\n",
       "      <th>1</th>\n",
       "      <td>White</td>\n",
       "      <td>Married</td>\n",
       "      <td>T2</td>\n",
       "      <td>N2</td>\n",
       "      <td>IIIA</td>\n",
       "      <td>Moderately differentiated</td>\n",
       "      <td>2</td>\n",
       "      <td>Regional</td>\n",
       "      <td>Positive</td>\n",
       "      <td>Positive</td>\n",
       "      <td>Alive</td>\n",
       "    </tr>\n",
       "    <tr>\n",
       "      <th>2</th>\n",
       "      <td>White</td>\n",
       "      <td>Divorced</td>\n",
       "      <td>T3</td>\n",
       "      <td>N3</td>\n",
       "      <td>IIIC</td>\n",
       "      <td>Moderately differentiated</td>\n",
       "      <td>2</td>\n",
       "      <td>Regional</td>\n",
       "      <td>Positive</td>\n",
       "      <td>Positive</td>\n",
       "      <td>Alive</td>\n",
       "    </tr>\n",
       "    <tr>\n",
       "      <th>3</th>\n",
       "      <td>White</td>\n",
       "      <td>Married</td>\n",
       "      <td>T1</td>\n",
       "      <td>N1</td>\n",
       "      <td>IIA</td>\n",
       "      <td>Poorly differentiated</td>\n",
       "      <td>3</td>\n",
       "      <td>Regional</td>\n",
       "      <td>Positive</td>\n",
       "      <td>Positive</td>\n",
       "      <td>Alive</td>\n",
       "    </tr>\n",
       "    <tr>\n",
       "      <th>4</th>\n",
       "      <td>White</td>\n",
       "      <td>Married</td>\n",
       "      <td>T2</td>\n",
       "      <td>N1</td>\n",
       "      <td>IIB</td>\n",
       "      <td>Poorly differentiated</td>\n",
       "      <td>3</td>\n",
       "      <td>Regional</td>\n",
       "      <td>Positive</td>\n",
       "      <td>Positive</td>\n",
       "      <td>Alive</td>\n",
       "    </tr>\n",
       "    <tr>\n",
       "      <th>...</th>\n",
       "      <td>...</td>\n",
       "      <td>...</td>\n",
       "      <td>...</td>\n",
       "      <td>...</td>\n",
       "      <td>...</td>\n",
       "      <td>...</td>\n",
       "      <td>...</td>\n",
       "      <td>...</td>\n",
       "      <td>...</td>\n",
       "      <td>...</td>\n",
       "      <td>...</td>\n",
       "    </tr>\n",
       "    <tr>\n",
       "      <th>4019</th>\n",
       "      <td>Other</td>\n",
       "      <td>Married</td>\n",
       "      <td>T1</td>\n",
       "      <td>N1</td>\n",
       "      <td>IIA</td>\n",
       "      <td>Moderately differentiated</td>\n",
       "      <td>2</td>\n",
       "      <td>Regional</td>\n",
       "      <td>Positive</td>\n",
       "      <td>Positive</td>\n",
       "      <td>Alive</td>\n",
       "    </tr>\n",
       "    <tr>\n",
       "      <th>4020</th>\n",
       "      <td>White</td>\n",
       "      <td>Divorced</td>\n",
       "      <td>T2</td>\n",
       "      <td>N2</td>\n",
       "      <td>IIIA</td>\n",
       "      <td>Moderately differentiated</td>\n",
       "      <td>2</td>\n",
       "      <td>Regional</td>\n",
       "      <td>Positive</td>\n",
       "      <td>Positive</td>\n",
       "      <td>Alive</td>\n",
       "    </tr>\n",
       "    <tr>\n",
       "      <th>4021</th>\n",
       "      <td>White</td>\n",
       "      <td>Married</td>\n",
       "      <td>T2</td>\n",
       "      <td>N1</td>\n",
       "      <td>IIB</td>\n",
       "      <td>Moderately differentiated</td>\n",
       "      <td>2</td>\n",
       "      <td>Regional</td>\n",
       "      <td>Positive</td>\n",
       "      <td>Negative</td>\n",
       "      <td>Alive</td>\n",
       "    </tr>\n",
       "    <tr>\n",
       "      <th>4022</th>\n",
       "      <td>Black</td>\n",
       "      <td>Divorced</td>\n",
       "      <td>T2</td>\n",
       "      <td>N1</td>\n",
       "      <td>IIB</td>\n",
       "      <td>Moderately differentiated</td>\n",
       "      <td>2</td>\n",
       "      <td>Regional</td>\n",
       "      <td>Positive</td>\n",
       "      <td>Positive</td>\n",
       "      <td>Alive</td>\n",
       "    </tr>\n",
       "    <tr>\n",
       "      <th>4023</th>\n",
       "      <td>White</td>\n",
       "      <td>Married</td>\n",
       "      <td>T2</td>\n",
       "      <td>N1</td>\n",
       "      <td>IIB</td>\n",
       "      <td>Moderately differentiated</td>\n",
       "      <td>2</td>\n",
       "      <td>Regional</td>\n",
       "      <td>Positive</td>\n",
       "      <td>Positive</td>\n",
       "      <td>Alive</td>\n",
       "    </tr>\n",
       "  </tbody>\n",
       "</table>\n",
       "<p>4023 rows × 11 columns</p>\n",
       "</div>"
      ],
      "text/plain": [
       "       Race Marital Status T Stage  N Stage 6th Stage  \\\n",
       "0     White        Married       T1      N1       IIA   \n",
       "1     White        Married       T2      N2      IIIA   \n",
       "2     White       Divorced       T3      N3      IIIC   \n",
       "3     White        Married       T1      N1       IIA   \n",
       "4     White        Married       T2      N1       IIB   \n",
       "...     ...            ...      ...     ...       ...   \n",
       "4019  Other        Married       T1      N1       IIA   \n",
       "4020  White       Divorced       T2      N2      IIIA   \n",
       "4021  White        Married       T2      N1       IIB   \n",
       "4022  Black       Divorced       T2      N1       IIB   \n",
       "4023  White        Married       T2      N1       IIB   \n",
       "\n",
       "                  differentiate Grade   A Stage Estrogen Status  \\\n",
       "0         Poorly differentiated     3  Regional        Positive   \n",
       "1     Moderately differentiated     2  Regional        Positive   \n",
       "2     Moderately differentiated     2  Regional        Positive   \n",
       "3         Poorly differentiated     3  Regional        Positive   \n",
       "4         Poorly differentiated     3  Regional        Positive   \n",
       "...                         ...   ...       ...             ...   \n",
       "4019  Moderately differentiated     2  Regional        Positive   \n",
       "4020  Moderately differentiated     2  Regional        Positive   \n",
       "4021  Moderately differentiated     2  Regional        Positive   \n",
       "4022  Moderately differentiated     2  Regional        Positive   \n",
       "4023  Moderately differentiated     2  Regional        Positive   \n",
       "\n",
       "     Progesterone Status Status  \n",
       "0               Positive  Alive  \n",
       "1               Positive  Alive  \n",
       "2               Positive  Alive  \n",
       "3               Positive  Alive  \n",
       "4               Positive  Alive  \n",
       "...                  ...    ...  \n",
       "4019            Positive  Alive  \n",
       "4020            Positive  Alive  \n",
       "4021            Negative  Alive  \n",
       "4022            Positive  Alive  \n",
       "4023            Positive  Alive  \n",
       "\n",
       "[4023 rows x 11 columns]"
      ]
     },
     "execution_count": 16,
     "metadata": {},
     "output_type": "execute_result"
    }
   ],
   "source": [
    "obj"
   ]
  },
  {
   "cell_type": "code",
   "execution_count": 17,
   "id": "a1dad2bf",
   "metadata": {
    "execution": {
     "iopub.execute_input": "2024-08-25T01:40:48.782082Z",
     "iopub.status.busy": "2024-08-25T01:40:48.781642Z",
     "iopub.status.idle": "2024-08-25T01:40:48.793456Z",
     "shell.execute_reply": "2024-08-25T01:40:48.792438Z"
    },
    "papermill": {
     "duration": 0.027613,
     "end_time": "2024-08-25T01:40:48.795619",
     "exception": false,
     "start_time": "2024-08-25T01:40:48.768006",
     "status": "completed"
    },
    "tags": []
   },
   "outputs": [
    {
     "data": {
      "text/html": [
       "<div>\n",
       "<style scoped>\n",
       "    .dataframe tbody tr th:only-of-type {\n",
       "        vertical-align: middle;\n",
       "    }\n",
       "\n",
       "    .dataframe tbody tr th {\n",
       "        vertical-align: top;\n",
       "    }\n",
       "\n",
       "    .dataframe thead th {\n",
       "        text-align: right;\n",
       "    }\n",
       "</style>\n",
       "<table border=\"1\" class=\"dataframe\">\n",
       "  <thead>\n",
       "    <tr style=\"text-align: right;\">\n",
       "      <th></th>\n",
       "      <th>Age</th>\n",
       "      <th>Tumor Size</th>\n",
       "      <th>Regional Node Examined</th>\n",
       "      <th>Reginol Node Positive</th>\n",
       "      <th>Survival Months</th>\n",
       "    </tr>\n",
       "  </thead>\n",
       "  <tbody>\n",
       "    <tr>\n",
       "      <th>0</th>\n",
       "      <td>68</td>\n",
       "      <td>4</td>\n",
       "      <td>24</td>\n",
       "      <td>1</td>\n",
       "      <td>60</td>\n",
       "    </tr>\n",
       "    <tr>\n",
       "      <th>1</th>\n",
       "      <td>50</td>\n",
       "      <td>35</td>\n",
       "      <td>14</td>\n",
       "      <td>5</td>\n",
       "      <td>62</td>\n",
       "    </tr>\n",
       "    <tr>\n",
       "      <th>2</th>\n",
       "      <td>58</td>\n",
       "      <td>63</td>\n",
       "      <td>14</td>\n",
       "      <td>7</td>\n",
       "      <td>75</td>\n",
       "    </tr>\n",
       "    <tr>\n",
       "      <th>3</th>\n",
       "      <td>58</td>\n",
       "      <td>18</td>\n",
       "      <td>2</td>\n",
       "      <td>1</td>\n",
       "      <td>84</td>\n",
       "    </tr>\n",
       "    <tr>\n",
       "      <th>4</th>\n",
       "      <td>47</td>\n",
       "      <td>41</td>\n",
       "      <td>3</td>\n",
       "      <td>1</td>\n",
       "      <td>50</td>\n",
       "    </tr>\n",
       "    <tr>\n",
       "      <th>...</th>\n",
       "      <td>...</td>\n",
       "      <td>...</td>\n",
       "      <td>...</td>\n",
       "      <td>...</td>\n",
       "      <td>...</td>\n",
       "    </tr>\n",
       "    <tr>\n",
       "      <th>4019</th>\n",
       "      <td>62</td>\n",
       "      <td>9</td>\n",
       "      <td>1</td>\n",
       "      <td>1</td>\n",
       "      <td>49</td>\n",
       "    </tr>\n",
       "    <tr>\n",
       "      <th>4020</th>\n",
       "      <td>56</td>\n",
       "      <td>46</td>\n",
       "      <td>14</td>\n",
       "      <td>8</td>\n",
       "      <td>69</td>\n",
       "    </tr>\n",
       "    <tr>\n",
       "      <th>4021</th>\n",
       "      <td>68</td>\n",
       "      <td>22</td>\n",
       "      <td>11</td>\n",
       "      <td>3</td>\n",
       "      <td>69</td>\n",
       "    </tr>\n",
       "    <tr>\n",
       "      <th>4022</th>\n",
       "      <td>58</td>\n",
       "      <td>44</td>\n",
       "      <td>11</td>\n",
       "      <td>1</td>\n",
       "      <td>72</td>\n",
       "    </tr>\n",
       "    <tr>\n",
       "      <th>4023</th>\n",
       "      <td>46</td>\n",
       "      <td>30</td>\n",
       "      <td>7</td>\n",
       "      <td>2</td>\n",
       "      <td>100</td>\n",
       "    </tr>\n",
       "  </tbody>\n",
       "</table>\n",
       "<p>4023 rows × 5 columns</p>\n",
       "</div>"
      ],
      "text/plain": [
       "      Age  Tumor Size  Regional Node Examined  Reginol Node Positive  \\\n",
       "0      68           4                      24                      1   \n",
       "1      50          35                      14                      5   \n",
       "2      58          63                      14                      7   \n",
       "3      58          18                       2                      1   \n",
       "4      47          41                       3                      1   \n",
       "...   ...         ...                     ...                    ...   \n",
       "4019   62           9                       1                      1   \n",
       "4020   56          46                      14                      8   \n",
       "4021   68          22                      11                      3   \n",
       "4022   58          44                      11                      1   \n",
       "4023   46          30                       7                      2   \n",
       "\n",
       "      Survival Months  \n",
       "0                  60  \n",
       "1                  62  \n",
       "2                  75  \n",
       "3                  84  \n",
       "4                  50  \n",
       "...               ...  \n",
       "4019               49  \n",
       "4020               69  \n",
       "4021               69  \n",
       "4022               72  \n",
       "4023              100  \n",
       "\n",
       "[4023 rows x 5 columns]"
      ]
     },
     "execution_count": 17,
     "metadata": {},
     "output_type": "execute_result"
    }
   ],
   "source": [
    "non_obj"
   ]
  },
  {
   "cell_type": "code",
   "execution_count": 18,
   "id": "6d881fc0",
   "metadata": {
    "execution": {
     "iopub.execute_input": "2024-08-25T01:40:48.822246Z",
     "iopub.status.busy": "2024-08-25T01:40:48.821837Z",
     "iopub.status.idle": "2024-08-25T01:40:48.843406Z",
     "shell.execute_reply": "2024-08-25T01:40:48.842271Z"
    },
    "papermill": {
     "duration": 0.037819,
     "end_time": "2024-08-25T01:40:48.845822",
     "exception": false,
     "start_time": "2024-08-25T01:40:48.808003",
     "status": "completed"
    },
    "tags": []
   },
   "outputs": [],
   "source": [
    "for i in range(0 ,obj.shape[1]):\n",
    "    obj.iloc[:,i] =lab.fit_transform(obj.iloc[:,i])"
   ]
  },
  {
   "cell_type": "code",
   "execution_count": 19,
   "id": "e7d57cfb",
   "metadata": {
    "execution": {
     "iopub.execute_input": "2024-08-25T01:40:48.873024Z",
     "iopub.status.busy": "2024-08-25T01:40:48.872602Z",
     "iopub.status.idle": "2024-08-25T01:40:48.890140Z",
     "shell.execute_reply": "2024-08-25T01:40:48.889083Z"
    },
    "papermill": {
     "duration": 0.033663,
     "end_time": "2024-08-25T01:40:48.892349",
     "exception": false,
     "start_time": "2024-08-25T01:40:48.858686",
     "status": "completed"
    },
    "tags": []
   },
   "outputs": [
    {
     "data": {
      "text/html": [
       "<div>\n",
       "<style scoped>\n",
       "    .dataframe tbody tr th:only-of-type {\n",
       "        vertical-align: middle;\n",
       "    }\n",
       "\n",
       "    .dataframe tbody tr th {\n",
       "        vertical-align: top;\n",
       "    }\n",
       "\n",
       "    .dataframe thead th {\n",
       "        text-align: right;\n",
       "    }\n",
       "</style>\n",
       "<table border=\"1\" class=\"dataframe\">\n",
       "  <thead>\n",
       "    <tr style=\"text-align: right;\">\n",
       "      <th></th>\n",
       "      <th>Race</th>\n",
       "      <th>Marital Status</th>\n",
       "      <th>T Stage</th>\n",
       "      <th>N Stage</th>\n",
       "      <th>6th Stage</th>\n",
       "      <th>differentiate</th>\n",
       "      <th>Grade</th>\n",
       "      <th>A Stage</th>\n",
       "      <th>Estrogen Status</th>\n",
       "      <th>Progesterone Status</th>\n",
       "      <th>Status</th>\n",
       "    </tr>\n",
       "  </thead>\n",
       "  <tbody>\n",
       "    <tr>\n",
       "      <th>0</th>\n",
       "      <td>2</td>\n",
       "      <td>1</td>\n",
       "      <td>0</td>\n",
       "      <td>0</td>\n",
       "      <td>0</td>\n",
       "      <td>1</td>\n",
       "      <td>3</td>\n",
       "      <td>1</td>\n",
       "      <td>1</td>\n",
       "      <td>1</td>\n",
       "      <td>0</td>\n",
       "    </tr>\n",
       "    <tr>\n",
       "      <th>1</th>\n",
       "      <td>2</td>\n",
       "      <td>1</td>\n",
       "      <td>1</td>\n",
       "      <td>1</td>\n",
       "      <td>2</td>\n",
       "      <td>0</td>\n",
       "      <td>2</td>\n",
       "      <td>1</td>\n",
       "      <td>1</td>\n",
       "      <td>1</td>\n",
       "      <td>0</td>\n",
       "    </tr>\n",
       "    <tr>\n",
       "      <th>2</th>\n",
       "      <td>2</td>\n",
       "      <td>0</td>\n",
       "      <td>2</td>\n",
       "      <td>2</td>\n",
       "      <td>4</td>\n",
       "      <td>0</td>\n",
       "      <td>2</td>\n",
       "      <td>1</td>\n",
       "      <td>1</td>\n",
       "      <td>1</td>\n",
       "      <td>0</td>\n",
       "    </tr>\n",
       "    <tr>\n",
       "      <th>3</th>\n",
       "      <td>2</td>\n",
       "      <td>1</td>\n",
       "      <td>0</td>\n",
       "      <td>0</td>\n",
       "      <td>0</td>\n",
       "      <td>1</td>\n",
       "      <td>3</td>\n",
       "      <td>1</td>\n",
       "      <td>1</td>\n",
       "      <td>1</td>\n",
       "      <td>0</td>\n",
       "    </tr>\n",
       "    <tr>\n",
       "      <th>4</th>\n",
       "      <td>2</td>\n",
       "      <td>1</td>\n",
       "      <td>1</td>\n",
       "      <td>0</td>\n",
       "      <td>1</td>\n",
       "      <td>1</td>\n",
       "      <td>3</td>\n",
       "      <td>1</td>\n",
       "      <td>1</td>\n",
       "      <td>1</td>\n",
       "      <td>0</td>\n",
       "    </tr>\n",
       "    <tr>\n",
       "      <th>...</th>\n",
       "      <td>...</td>\n",
       "      <td>...</td>\n",
       "      <td>...</td>\n",
       "      <td>...</td>\n",
       "      <td>...</td>\n",
       "      <td>...</td>\n",
       "      <td>...</td>\n",
       "      <td>...</td>\n",
       "      <td>...</td>\n",
       "      <td>...</td>\n",
       "      <td>...</td>\n",
       "    </tr>\n",
       "    <tr>\n",
       "      <th>4019</th>\n",
       "      <td>1</td>\n",
       "      <td>1</td>\n",
       "      <td>0</td>\n",
       "      <td>0</td>\n",
       "      <td>0</td>\n",
       "      <td>0</td>\n",
       "      <td>2</td>\n",
       "      <td>1</td>\n",
       "      <td>1</td>\n",
       "      <td>1</td>\n",
       "      <td>0</td>\n",
       "    </tr>\n",
       "    <tr>\n",
       "      <th>4020</th>\n",
       "      <td>2</td>\n",
       "      <td>0</td>\n",
       "      <td>1</td>\n",
       "      <td>1</td>\n",
       "      <td>2</td>\n",
       "      <td>0</td>\n",
       "      <td>2</td>\n",
       "      <td>1</td>\n",
       "      <td>1</td>\n",
       "      <td>1</td>\n",
       "      <td>0</td>\n",
       "    </tr>\n",
       "    <tr>\n",
       "      <th>4021</th>\n",
       "      <td>2</td>\n",
       "      <td>1</td>\n",
       "      <td>1</td>\n",
       "      <td>0</td>\n",
       "      <td>1</td>\n",
       "      <td>0</td>\n",
       "      <td>2</td>\n",
       "      <td>1</td>\n",
       "      <td>1</td>\n",
       "      <td>0</td>\n",
       "      <td>0</td>\n",
       "    </tr>\n",
       "    <tr>\n",
       "      <th>4022</th>\n",
       "      <td>0</td>\n",
       "      <td>0</td>\n",
       "      <td>1</td>\n",
       "      <td>0</td>\n",
       "      <td>1</td>\n",
       "      <td>0</td>\n",
       "      <td>2</td>\n",
       "      <td>1</td>\n",
       "      <td>1</td>\n",
       "      <td>1</td>\n",
       "      <td>0</td>\n",
       "    </tr>\n",
       "    <tr>\n",
       "      <th>4023</th>\n",
       "      <td>2</td>\n",
       "      <td>1</td>\n",
       "      <td>1</td>\n",
       "      <td>0</td>\n",
       "      <td>1</td>\n",
       "      <td>0</td>\n",
       "      <td>2</td>\n",
       "      <td>1</td>\n",
       "      <td>1</td>\n",
       "      <td>1</td>\n",
       "      <td>0</td>\n",
       "    </tr>\n",
       "  </tbody>\n",
       "</table>\n",
       "<p>4023 rows × 11 columns</p>\n",
       "</div>"
      ],
      "text/plain": [
       "     Race Marital Status T Stage  N Stage 6th Stage differentiate Grade  \\\n",
       "0       2              1        0       0         0             1     3   \n",
       "1       2              1        1       1         2             0     2   \n",
       "2       2              0        2       2         4             0     2   \n",
       "3       2              1        0       0         0             1     3   \n",
       "4       2              1        1       0         1             1     3   \n",
       "...   ...            ...      ...     ...       ...           ...   ...   \n",
       "4019    1              1        0       0         0             0     2   \n",
       "4020    2              0        1       1         2             0     2   \n",
       "4021    2              1        1       0         1             0     2   \n",
       "4022    0              0        1       0         1             0     2   \n",
       "4023    2              1        1       0         1             0     2   \n",
       "\n",
       "     A Stage Estrogen Status Progesterone Status Status  \n",
       "0          1               1                   1      0  \n",
       "1          1               1                   1      0  \n",
       "2          1               1                   1      0  \n",
       "3          1               1                   1      0  \n",
       "4          1               1                   1      0  \n",
       "...      ...             ...                 ...    ...  \n",
       "4019       1               1                   1      0  \n",
       "4020       1               1                   1      0  \n",
       "4021       1               1                   0      0  \n",
       "4022       1               1                   1      0  \n",
       "4023       1               1                   1      0  \n",
       "\n",
       "[4023 rows x 11 columns]"
      ]
     },
     "execution_count": 19,
     "metadata": {},
     "output_type": "execute_result"
    }
   ],
   "source": [
    "obj"
   ]
  },
  {
   "cell_type": "code",
   "execution_count": 20,
   "id": "28bc6458",
   "metadata": {
    "execution": {
     "iopub.execute_input": "2024-08-25T01:40:48.919885Z",
     "iopub.status.busy": "2024-08-25T01:40:48.919491Z",
     "iopub.status.idle": "2024-08-25T01:40:48.926803Z",
     "shell.execute_reply": "2024-08-25T01:40:48.925375Z"
    },
    "papermill": {
     "duration": 0.02376,
     "end_time": "2024-08-25T01:40:48.929122",
     "exception": false,
     "start_time": "2024-08-25T01:40:48.905362",
     "status": "completed"
    },
    "tags": []
   },
   "outputs": [],
   "source": [
    "obj = obj.astype('int')"
   ]
  },
  {
   "cell_type": "code",
   "execution_count": 21,
   "id": "9941984a",
   "metadata": {
    "execution": {
     "iopub.execute_input": "2024-08-25T01:40:48.956989Z",
     "iopub.status.busy": "2024-08-25T01:40:48.956574Z",
     "iopub.status.idle": "2024-08-25T01:40:48.963474Z",
     "shell.execute_reply": "2024-08-25T01:40:48.962279Z"
    },
    "papermill": {
     "duration": 0.023668,
     "end_time": "2024-08-25T01:40:48.965798",
     "exception": false,
     "start_time": "2024-08-25T01:40:48.942130",
     "status": "completed"
    },
    "tags": []
   },
   "outputs": [],
   "source": [
    "df = pd.concat([obj, non_obj],axis =1)"
   ]
  },
  {
   "cell_type": "code",
   "execution_count": 22,
   "id": "60aadb10",
   "metadata": {
    "execution": {
     "iopub.execute_input": "2024-08-25T01:40:48.994082Z",
     "iopub.status.busy": "2024-08-25T01:40:48.993100Z",
     "iopub.status.idle": "2024-08-25T01:40:49.009749Z",
     "shell.execute_reply": "2024-08-25T01:40:49.008715Z"
    },
    "papermill": {
     "duration": 0.03282,
     "end_time": "2024-08-25T01:40:49.011786",
     "exception": false,
     "start_time": "2024-08-25T01:40:48.978966",
     "status": "completed"
    },
    "tags": []
   },
   "outputs": [
    {
     "data": {
      "text/html": [
       "<div>\n",
       "<style scoped>\n",
       "    .dataframe tbody tr th:only-of-type {\n",
       "        vertical-align: middle;\n",
       "    }\n",
       "\n",
       "    .dataframe tbody tr th {\n",
       "        vertical-align: top;\n",
       "    }\n",
       "\n",
       "    .dataframe thead th {\n",
       "        text-align: right;\n",
       "    }\n",
       "</style>\n",
       "<table border=\"1\" class=\"dataframe\">\n",
       "  <thead>\n",
       "    <tr style=\"text-align: right;\">\n",
       "      <th></th>\n",
       "      <th>Race</th>\n",
       "      <th>Marital Status</th>\n",
       "      <th>T Stage</th>\n",
       "      <th>N Stage</th>\n",
       "      <th>6th Stage</th>\n",
       "      <th>differentiate</th>\n",
       "      <th>Grade</th>\n",
       "      <th>A Stage</th>\n",
       "      <th>Estrogen Status</th>\n",
       "      <th>Progesterone Status</th>\n",
       "      <th>Status</th>\n",
       "      <th>Age</th>\n",
       "      <th>Tumor Size</th>\n",
       "      <th>Regional Node Examined</th>\n",
       "      <th>Reginol Node Positive</th>\n",
       "      <th>Survival Months</th>\n",
       "    </tr>\n",
       "  </thead>\n",
       "  <tbody>\n",
       "    <tr>\n",
       "      <th>0</th>\n",
       "      <td>2</td>\n",
       "      <td>1</td>\n",
       "      <td>0</td>\n",
       "      <td>0</td>\n",
       "      <td>0</td>\n",
       "      <td>1</td>\n",
       "      <td>3</td>\n",
       "      <td>1</td>\n",
       "      <td>1</td>\n",
       "      <td>1</td>\n",
       "      <td>0</td>\n",
       "      <td>68</td>\n",
       "      <td>4</td>\n",
       "      <td>24</td>\n",
       "      <td>1</td>\n",
       "      <td>60</td>\n",
       "    </tr>\n",
       "    <tr>\n",
       "      <th>1</th>\n",
       "      <td>2</td>\n",
       "      <td>1</td>\n",
       "      <td>1</td>\n",
       "      <td>1</td>\n",
       "      <td>2</td>\n",
       "      <td>0</td>\n",
       "      <td>2</td>\n",
       "      <td>1</td>\n",
       "      <td>1</td>\n",
       "      <td>1</td>\n",
       "      <td>0</td>\n",
       "      <td>50</td>\n",
       "      <td>35</td>\n",
       "      <td>14</td>\n",
       "      <td>5</td>\n",
       "      <td>62</td>\n",
       "    </tr>\n",
       "    <tr>\n",
       "      <th>2</th>\n",
       "      <td>2</td>\n",
       "      <td>0</td>\n",
       "      <td>2</td>\n",
       "      <td>2</td>\n",
       "      <td>4</td>\n",
       "      <td>0</td>\n",
       "      <td>2</td>\n",
       "      <td>1</td>\n",
       "      <td>1</td>\n",
       "      <td>1</td>\n",
       "      <td>0</td>\n",
       "      <td>58</td>\n",
       "      <td>63</td>\n",
       "      <td>14</td>\n",
       "      <td>7</td>\n",
       "      <td>75</td>\n",
       "    </tr>\n",
       "    <tr>\n",
       "      <th>3</th>\n",
       "      <td>2</td>\n",
       "      <td>1</td>\n",
       "      <td>0</td>\n",
       "      <td>0</td>\n",
       "      <td>0</td>\n",
       "      <td>1</td>\n",
       "      <td>3</td>\n",
       "      <td>1</td>\n",
       "      <td>1</td>\n",
       "      <td>1</td>\n",
       "      <td>0</td>\n",
       "      <td>58</td>\n",
       "      <td>18</td>\n",
       "      <td>2</td>\n",
       "      <td>1</td>\n",
       "      <td>84</td>\n",
       "    </tr>\n",
       "    <tr>\n",
       "      <th>4</th>\n",
       "      <td>2</td>\n",
       "      <td>1</td>\n",
       "      <td>1</td>\n",
       "      <td>0</td>\n",
       "      <td>1</td>\n",
       "      <td>1</td>\n",
       "      <td>3</td>\n",
       "      <td>1</td>\n",
       "      <td>1</td>\n",
       "      <td>1</td>\n",
       "      <td>0</td>\n",
       "      <td>47</td>\n",
       "      <td>41</td>\n",
       "      <td>3</td>\n",
       "      <td>1</td>\n",
       "      <td>50</td>\n",
       "    </tr>\n",
       "    <tr>\n",
       "      <th>...</th>\n",
       "      <td>...</td>\n",
       "      <td>...</td>\n",
       "      <td>...</td>\n",
       "      <td>...</td>\n",
       "      <td>...</td>\n",
       "      <td>...</td>\n",
       "      <td>...</td>\n",
       "      <td>...</td>\n",
       "      <td>...</td>\n",
       "      <td>...</td>\n",
       "      <td>...</td>\n",
       "      <td>...</td>\n",
       "      <td>...</td>\n",
       "      <td>...</td>\n",
       "      <td>...</td>\n",
       "      <td>...</td>\n",
       "    </tr>\n",
       "    <tr>\n",
       "      <th>4019</th>\n",
       "      <td>1</td>\n",
       "      <td>1</td>\n",
       "      <td>0</td>\n",
       "      <td>0</td>\n",
       "      <td>0</td>\n",
       "      <td>0</td>\n",
       "      <td>2</td>\n",
       "      <td>1</td>\n",
       "      <td>1</td>\n",
       "      <td>1</td>\n",
       "      <td>0</td>\n",
       "      <td>62</td>\n",
       "      <td>9</td>\n",
       "      <td>1</td>\n",
       "      <td>1</td>\n",
       "      <td>49</td>\n",
       "    </tr>\n",
       "    <tr>\n",
       "      <th>4020</th>\n",
       "      <td>2</td>\n",
       "      <td>0</td>\n",
       "      <td>1</td>\n",
       "      <td>1</td>\n",
       "      <td>2</td>\n",
       "      <td>0</td>\n",
       "      <td>2</td>\n",
       "      <td>1</td>\n",
       "      <td>1</td>\n",
       "      <td>1</td>\n",
       "      <td>0</td>\n",
       "      <td>56</td>\n",
       "      <td>46</td>\n",
       "      <td>14</td>\n",
       "      <td>8</td>\n",
       "      <td>69</td>\n",
       "    </tr>\n",
       "    <tr>\n",
       "      <th>4021</th>\n",
       "      <td>2</td>\n",
       "      <td>1</td>\n",
       "      <td>1</td>\n",
       "      <td>0</td>\n",
       "      <td>1</td>\n",
       "      <td>0</td>\n",
       "      <td>2</td>\n",
       "      <td>1</td>\n",
       "      <td>1</td>\n",
       "      <td>0</td>\n",
       "      <td>0</td>\n",
       "      <td>68</td>\n",
       "      <td>22</td>\n",
       "      <td>11</td>\n",
       "      <td>3</td>\n",
       "      <td>69</td>\n",
       "    </tr>\n",
       "    <tr>\n",
       "      <th>4022</th>\n",
       "      <td>0</td>\n",
       "      <td>0</td>\n",
       "      <td>1</td>\n",
       "      <td>0</td>\n",
       "      <td>1</td>\n",
       "      <td>0</td>\n",
       "      <td>2</td>\n",
       "      <td>1</td>\n",
       "      <td>1</td>\n",
       "      <td>1</td>\n",
       "      <td>0</td>\n",
       "      <td>58</td>\n",
       "      <td>44</td>\n",
       "      <td>11</td>\n",
       "      <td>1</td>\n",
       "      <td>72</td>\n",
       "    </tr>\n",
       "    <tr>\n",
       "      <th>4023</th>\n",
       "      <td>2</td>\n",
       "      <td>1</td>\n",
       "      <td>1</td>\n",
       "      <td>0</td>\n",
       "      <td>1</td>\n",
       "      <td>0</td>\n",
       "      <td>2</td>\n",
       "      <td>1</td>\n",
       "      <td>1</td>\n",
       "      <td>1</td>\n",
       "      <td>0</td>\n",
       "      <td>46</td>\n",
       "      <td>30</td>\n",
       "      <td>7</td>\n",
       "      <td>2</td>\n",
       "      <td>100</td>\n",
       "    </tr>\n",
       "  </tbody>\n",
       "</table>\n",
       "<p>4023 rows × 16 columns</p>\n",
       "</div>"
      ],
      "text/plain": [
       "      Race  Marital Status  T Stage   N Stage  6th Stage  differentiate  \\\n",
       "0        2               1         0        0          0              1   \n",
       "1        2               1         1        1          2              0   \n",
       "2        2               0         2        2          4              0   \n",
       "3        2               1         0        0          0              1   \n",
       "4        2               1         1        0          1              1   \n",
       "...    ...             ...       ...      ...        ...            ...   \n",
       "4019     1               1         0        0          0              0   \n",
       "4020     2               0         1        1          2              0   \n",
       "4021     2               1         1        0          1              0   \n",
       "4022     0               0         1        0          1              0   \n",
       "4023     2               1         1        0          1              0   \n",
       "\n",
       "      Grade  A Stage  Estrogen Status  Progesterone Status  Status  Age  \\\n",
       "0         3        1                1                    1       0   68   \n",
       "1         2        1                1                    1       0   50   \n",
       "2         2        1                1                    1       0   58   \n",
       "3         3        1                1                    1       0   58   \n",
       "4         3        1                1                    1       0   47   \n",
       "...     ...      ...              ...                  ...     ...  ...   \n",
       "4019      2        1                1                    1       0   62   \n",
       "4020      2        1                1                    1       0   56   \n",
       "4021      2        1                1                    0       0   68   \n",
       "4022      2        1                1                    1       0   58   \n",
       "4023      2        1                1                    1       0   46   \n",
       "\n",
       "      Tumor Size  Regional Node Examined  Reginol Node Positive  \\\n",
       "0              4                      24                      1   \n",
       "1             35                      14                      5   \n",
       "2             63                      14                      7   \n",
       "3             18                       2                      1   \n",
       "4             41                       3                      1   \n",
       "...          ...                     ...                    ...   \n",
       "4019           9                       1                      1   \n",
       "4020          46                      14                      8   \n",
       "4021          22                      11                      3   \n",
       "4022          44                      11                      1   \n",
       "4023          30                       7                      2   \n",
       "\n",
       "      Survival Months  \n",
       "0                  60  \n",
       "1                  62  \n",
       "2                  75  \n",
       "3                  84  \n",
       "4                  50  \n",
       "...               ...  \n",
       "4019               49  \n",
       "4020               69  \n",
       "4021               69  \n",
       "4022               72  \n",
       "4023              100  \n",
       "\n",
       "[4023 rows x 16 columns]"
      ]
     },
     "execution_count": 22,
     "metadata": {},
     "output_type": "execute_result"
    }
   ],
   "source": [
    "df"
   ]
  },
  {
   "cell_type": "code",
   "execution_count": 23,
   "id": "4257e405",
   "metadata": {
    "execution": {
     "iopub.execute_input": "2024-08-25T01:40:49.040005Z",
     "iopub.status.busy": "2024-08-25T01:40:49.039582Z",
     "iopub.status.idle": "2024-08-25T01:40:49.052227Z",
     "shell.execute_reply": "2024-08-25T01:40:49.050631Z"
    },
    "papermill": {
     "duration": 0.029446,
     "end_time": "2024-08-25T01:40:49.054379",
     "exception": false,
     "start_time": "2024-08-25T01:40:49.024933",
     "status": "completed"
    },
    "tags": []
   },
   "outputs": [
    {
     "name": "stdout",
     "output_type": "stream",
     "text": [
      "<class 'pandas.core.frame.DataFrame'>\n",
      "Index: 4023 entries, 0 to 4023\n",
      "Data columns (total 16 columns):\n",
      " #   Column                  Non-Null Count  Dtype\n",
      "---  ------                  --------------  -----\n",
      " 0   Race                    4023 non-null   int64\n",
      " 1   Marital Status          4023 non-null   int64\n",
      " 2   T Stage                 4023 non-null   int64\n",
      " 3   N Stage                 4023 non-null   int64\n",
      " 4   6th Stage               4023 non-null   int64\n",
      " 5   differentiate           4023 non-null   int64\n",
      " 6   Grade                   4023 non-null   int64\n",
      " 7   A Stage                 4023 non-null   int64\n",
      " 8   Estrogen Status         4023 non-null   int64\n",
      " 9   Progesterone Status     4023 non-null   int64\n",
      " 10  Status                  4023 non-null   int64\n",
      " 11  Age                     4023 non-null   int64\n",
      " 12  Tumor Size              4023 non-null   int64\n",
      " 13  Regional Node Examined  4023 non-null   int64\n",
      " 14  Reginol Node Positive   4023 non-null   int64\n",
      " 15  Survival Months         4023 non-null   int64\n",
      "dtypes: int64(16)\n",
      "memory usage: 534.3 KB\n"
     ]
    }
   ],
   "source": [
    "df.info()"
   ]
  },
  {
   "cell_type": "code",
   "execution_count": 24,
   "id": "9c1f6079",
   "metadata": {
    "execution": {
     "iopub.execute_input": "2024-08-25T01:40:49.082691Z",
     "iopub.status.busy": "2024-08-25T01:40:49.082280Z",
     "iopub.status.idle": "2024-08-25T01:40:49.091396Z",
     "shell.execute_reply": "2024-08-25T01:40:49.090268Z"
    },
    "papermill": {
     "duration": 0.025801,
     "end_time": "2024-08-25T01:40:49.093585",
     "exception": false,
     "start_time": "2024-08-25T01:40:49.067784",
     "status": "completed"
    },
    "tags": []
   },
   "outputs": [
    {
     "data": {
      "text/plain": [
       "array([0, 1])"
      ]
     },
     "execution_count": 24,
     "metadata": {},
     "output_type": "execute_result"
    }
   ],
   "source": [
    "df['Status'].unique()"
   ]
  },
  {
   "cell_type": "markdown",
   "id": "0c92e11b",
   "metadata": {
    "papermill": {
     "duration": 0.01289,
     "end_time": "2024-08-25T01:40:49.119746",
     "exception": false,
     "start_time": "2024-08-25T01:40:49.106856",
     "status": "completed"
    },
    "tags": []
   },
   "source": [
    "## creat model"
   ]
  },
  {
   "cell_type": "code",
   "execution_count": 25,
   "id": "dffd4452",
   "metadata": {
    "execution": {
     "iopub.execute_input": "2024-08-25T01:40:49.148375Z",
     "iopub.status.busy": "2024-08-25T01:40:49.147905Z",
     "iopub.status.idle": "2024-08-25T01:40:49.154159Z",
     "shell.execute_reply": "2024-08-25T01:40:49.153077Z"
    },
    "papermill": {
     "duration": 0.023189,
     "end_time": "2024-08-25T01:40:49.156346",
     "exception": false,
     "start_time": "2024-08-25T01:40:49.133157",
     "status": "completed"
    },
    "tags": []
   },
   "outputs": [],
   "source": [
    "x = df.drop(['Status'], axis =1 )\n",
    "y =df['Status']"
   ]
  },
  {
   "cell_type": "code",
   "execution_count": 26,
   "id": "92e3ca34",
   "metadata": {
    "execution": {
     "iopub.execute_input": "2024-08-25T01:40:49.185149Z",
     "iopub.status.busy": "2024-08-25T01:40:49.184331Z",
     "iopub.status.idle": "2024-08-25T01:40:49.199291Z",
     "shell.execute_reply": "2024-08-25T01:40:49.198339Z"
    },
    "papermill": {
     "duration": 0.032122,
     "end_time": "2024-08-25T01:40:49.201867",
     "exception": false,
     "start_time": "2024-08-25T01:40:49.169745",
     "status": "completed"
    },
    "tags": []
   },
   "outputs": [],
   "source": [
    "ros =  RandomOverSampler(random_state= 30)\n",
    "x_ros,y_ros = ros.fit_resample( x, y)"
   ]
  },
  {
   "cell_type": "code",
   "execution_count": null,
   "id": "e363307b",
   "metadata": {
    "papermill": {
     "duration": 0.014979,
     "end_time": "2024-08-25T01:40:49.230564",
     "exception": false,
     "start_time": "2024-08-25T01:40:49.215585",
     "status": "completed"
    },
    "tags": []
   },
   "outputs": [],
   "source": []
  },
  {
   "cell_type": "code",
   "execution_count": 27,
   "id": "efedcb65",
   "metadata": {
    "execution": {
     "iopub.execute_input": "2024-08-25T01:40:49.259608Z",
     "iopub.status.busy": "2024-08-25T01:40:49.259218Z",
     "iopub.status.idle": "2024-08-25T01:40:49.268824Z",
     "shell.execute_reply": "2024-08-25T01:40:49.267838Z"
    },
    "papermill": {
     "duration": 0.026921,
     "end_time": "2024-08-25T01:40:49.271082",
     "exception": false,
     "start_time": "2024-08-25T01:40:49.244161",
     "status": "completed"
    },
    "tags": []
   },
   "outputs": [],
   "source": [
    "x_train,x_test,y_train,y_test= train_test_split(x_ros,y_ros ,test_size = 0.2 , random_state = 40)"
   ]
  },
  {
   "cell_type": "code",
   "execution_count": null,
   "id": "721a3fb5",
   "metadata": {
    "papermill": {
     "duration": 0.014917,
     "end_time": "2024-08-25T01:40:49.301287",
     "exception": false,
     "start_time": "2024-08-25T01:40:49.286370",
     "status": "completed"
    },
    "tags": []
   },
   "outputs": [],
   "source": []
  },
  {
   "cell_type": "code",
   "execution_count": 28,
   "id": "53d6e926",
   "metadata": {
    "execution": {
     "iopub.execute_input": "2024-08-25T01:40:49.340678Z",
     "iopub.status.busy": "2024-08-25T01:40:49.339746Z",
     "iopub.status.idle": "2024-08-25T01:40:49.348014Z",
     "shell.execute_reply": "2024-08-25T01:40:49.346561Z"
    },
    "papermill": {
     "duration": 0.03229,
     "end_time": "2024-08-25T01:40:49.350974",
     "exception": false,
     "start_time": "2024-08-25T01:40:49.318684",
     "status": "completed"
    },
    "tags": []
   },
   "outputs": [],
   "source": [
    "model1 = KNeighborsClassifier()\n",
    "model2 =SVC(kernel='rbf', degree=3, gamma='auto')\n",
    "model3 =GradientBoostingClassifier()\n",
    "model4 =RandomForestClassifier(n_estimators = 100 , n_jobs = 1,random_state =40)\n",
    "model5 =LogisticRegression()\n",
    "model6 =XGBClassifier()"
   ]
  },
  {
   "cell_type": "code",
   "execution_count": null,
   "id": "16c8095b",
   "metadata": {
    "papermill": {
     "duration": 0.013162,
     "end_time": "2024-08-25T01:40:49.377962",
     "exception": false,
     "start_time": "2024-08-25T01:40:49.364800",
     "status": "completed"
    },
    "tags": []
   },
   "outputs": [],
   "source": []
  },
  {
   "cell_type": "code",
   "execution_count": 29,
   "id": "57e3801e",
   "metadata": {
    "execution": {
     "iopub.execute_input": "2024-08-25T01:40:49.473458Z",
     "iopub.status.busy": "2024-08-25T01:40:49.472884Z",
     "iopub.status.idle": "2024-08-25T01:40:49.479093Z",
     "shell.execute_reply": "2024-08-25T01:40:49.478028Z"
    },
    "papermill": {
     "duration": 0.031392,
     "end_time": "2024-08-25T01:40:49.483633",
     "exception": false,
     "start_time": "2024-08-25T01:40:49.452241",
     "status": "completed"
    },
    "tags": []
   },
   "outputs": [],
   "source": [
    "def all_models (model) :\n",
    "    model.fit(x_train, y_train)\n",
    "    pre= model.predict(x_test)\n",
    "    model.score(x_test,y_test)\n",
    "    print(classification_report (y_test,pre))\n",
    "    "
   ]
  },
  {
   "cell_type": "code",
   "execution_count": 30,
   "id": "f3170bbe",
   "metadata": {
    "execution": {
     "iopub.execute_input": "2024-08-25T01:40:49.516630Z",
     "iopub.status.busy": "2024-08-25T01:40:49.516194Z",
     "iopub.status.idle": "2024-08-25T01:40:49.720895Z",
     "shell.execute_reply": "2024-08-25T01:40:49.719648Z"
    },
    "papermill": {
     "duration": 0.22273,
     "end_time": "2024-08-25T01:40:49.723645",
     "exception": false,
     "start_time": "2024-08-25T01:40:49.500915",
     "status": "completed"
    },
    "tags": []
   },
   "outputs": [
    {
     "name": "stdout",
     "output_type": "stream",
     "text": [
      "              precision    recall  f1-score   support\n",
      "\n",
      "           0       0.92      0.76      0.83       698\n",
      "           1       0.79      0.93      0.85       665\n",
      "\n",
      "    accuracy                           0.84      1363\n",
      "   macro avg       0.85      0.84      0.84      1363\n",
      "weighted avg       0.85      0.84      0.84      1363\n",
      "\n"
     ]
    }
   ],
   "source": [
    "all_models(model1)"
   ]
  },
  {
   "cell_type": "code",
   "execution_count": 31,
   "id": "43b0b867",
   "metadata": {
    "execution": {
     "iopub.execute_input": "2024-08-25T01:40:49.757764Z",
     "iopub.status.busy": "2024-08-25T01:40:49.756667Z",
     "iopub.status.idle": "2024-08-25T01:40:51.809495Z",
     "shell.execute_reply": "2024-08-25T01:40:51.808043Z"
    },
    "papermill": {
     "duration": 2.070966,
     "end_time": "2024-08-25T01:40:51.812045",
     "exception": false,
     "start_time": "2024-08-25T01:40:49.741079",
     "status": "completed"
    },
    "tags": []
   },
   "outputs": [
    {
     "name": "stdout",
     "output_type": "stream",
     "text": [
      "              precision    recall  f1-score   support\n",
      "\n",
      "           0       0.99      0.99      0.99       698\n",
      "           1       0.99      0.99      0.99       665\n",
      "\n",
      "    accuracy                           0.99      1363\n",
      "   macro avg       0.99      0.99      0.99      1363\n",
      "weighted avg       0.99      0.99      0.99      1363\n",
      "\n"
     ]
    }
   ],
   "source": [
    "all_models(model2)"
   ]
  },
  {
   "cell_type": "code",
   "execution_count": 32,
   "id": "8445a0d5",
   "metadata": {
    "execution": {
     "iopub.execute_input": "2024-08-25T01:40:51.843005Z",
     "iopub.status.busy": "2024-08-25T01:40:51.842021Z",
     "iopub.status.idle": "2024-08-25T01:40:52.531461Z",
     "shell.execute_reply": "2024-08-25T01:40:52.530095Z"
    },
    "papermill": {
     "duration": 0.708013,
     "end_time": "2024-08-25T01:40:52.533978",
     "exception": false,
     "start_time": "2024-08-25T01:40:51.825965",
     "status": "completed"
    },
    "tags": []
   },
   "outputs": [
    {
     "name": "stdout",
     "output_type": "stream",
     "text": [
      "              precision    recall  f1-score   support\n",
      "\n",
      "           0       0.80      0.88      0.84       698\n",
      "           1       0.86      0.77      0.81       665\n",
      "\n",
      "    accuracy                           0.83      1363\n",
      "   macro avg       0.83      0.83      0.83      1363\n",
      "weighted avg       0.83      0.83      0.83      1363\n",
      "\n"
     ]
    }
   ],
   "source": [
    "all_models(model3)"
   ]
  },
  {
   "cell_type": "code",
   "execution_count": 33,
   "id": "6df2a020",
   "metadata": {
    "execution": {
     "iopub.execute_input": "2024-08-25T01:40:52.564068Z",
     "iopub.status.busy": "2024-08-25T01:40:52.562942Z",
     "iopub.status.idle": "2024-08-25T01:40:53.284642Z",
     "shell.execute_reply": "2024-08-25T01:40:53.283299Z"
    },
    "papermill": {
     "duration": 0.739116,
     "end_time": "2024-08-25T01:40:53.287009",
     "exception": false,
     "start_time": "2024-08-25T01:40:52.547893",
     "status": "completed"
    },
    "tags": []
   },
   "outputs": [
    {
     "name": "stdout",
     "output_type": "stream",
     "text": [
      "              precision    recall  f1-score   support\n",
      "\n",
      "           0       0.99      0.94      0.97       698\n",
      "           1       0.94      0.99      0.97       665\n",
      "\n",
      "    accuracy                           0.97      1363\n",
      "   macro avg       0.97      0.97      0.97      1363\n",
      "weighted avg       0.97      0.97      0.97      1363\n",
      "\n"
     ]
    }
   ],
   "source": [
    "all_models(model4)"
   ]
  },
  {
   "cell_type": "code",
   "execution_count": 34,
   "id": "aa138160",
   "metadata": {
    "execution": {
     "iopub.execute_input": "2024-08-25T01:40:53.316841Z",
     "iopub.status.busy": "2024-08-25T01:40:53.315998Z",
     "iopub.status.idle": "2024-08-25T01:40:53.439340Z",
     "shell.execute_reply": "2024-08-25T01:40:53.438162Z"
    },
    "papermill": {
     "duration": 0.141696,
     "end_time": "2024-08-25T01:40:53.442660",
     "exception": false,
     "start_time": "2024-08-25T01:40:53.300964",
     "status": "completed"
    },
    "tags": []
   },
   "outputs": [
    {
     "name": "stdout",
     "output_type": "stream",
     "text": [
      "              precision    recall  f1-score   support\n",
      "\n",
      "           0       0.78      0.81      0.79       698\n",
      "           1       0.79      0.77      0.78       665\n",
      "\n",
      "    accuracy                           0.79      1363\n",
      "   macro avg       0.79      0.79      0.79      1363\n",
      "weighted avg       0.79      0.79      0.79      1363\n",
      "\n"
     ]
    }
   ],
   "source": [
    "all_models(model5)"
   ]
  },
  {
   "cell_type": "code",
   "execution_count": 35,
   "id": "4b1cbcf2",
   "metadata": {
    "execution": {
     "iopub.execute_input": "2024-08-25T01:40:53.491926Z",
     "iopub.status.busy": "2024-08-25T01:40:53.491282Z",
     "iopub.status.idle": "2024-08-25T01:40:53.710931Z",
     "shell.execute_reply": "2024-08-25T01:40:53.709612Z"
    },
    "papermill": {
     "duration": 0.247525,
     "end_time": "2024-08-25T01:40:53.713576",
     "exception": false,
     "start_time": "2024-08-25T01:40:53.466051",
     "status": "completed"
    },
    "tags": []
   },
   "outputs": [
    {
     "name": "stdout",
     "output_type": "stream",
     "text": [
      "              precision    recall  f1-score   support\n",
      "\n",
      "           0       0.97      0.93      0.95       698\n",
      "           1       0.93      0.97      0.95       665\n",
      "\n",
      "    accuracy                           0.95      1363\n",
      "   macro avg       0.95      0.95      0.95      1363\n",
      "weighted avg       0.95      0.95      0.95      1363\n",
      "\n"
     ]
    }
   ],
   "source": [
    "all_models(model6)"
   ]
  },
  {
   "cell_type": "code",
   "execution_count": null,
   "id": "a03030ea",
   "metadata": {
    "papermill": {
     "duration": 0.01605,
     "end_time": "2024-08-25T01:40:53.744504",
     "exception": false,
     "start_time": "2024-08-25T01:40:53.728454",
     "status": "completed"
    },
    "tags": []
   },
   "outputs": [],
   "source": []
  },
  {
   "cell_type": "markdown",
   "id": "cb817cf2",
   "metadata": {
    "papermill": {
     "duration": 0.013519,
     "end_time": "2024-08-25T01:40:53.771892",
     "exception": false,
     "start_time": "2024-08-25T01:40:53.758373",
     "status": "completed"
    },
    "tags": []
   },
   "source": [
    "# the best models is SVC and RandomForestClassifier"
   ]
  }
 ],
 "metadata": {
  "kaggle": {
   "accelerator": "none",
   "dataSources": [
    {
     "datasetId": 2396275,
     "sourceId": 4045493,
     "sourceType": "datasetVersion"
    }
   ],
   "dockerImageVersionId": 30761,
   "isGpuEnabled": false,
   "isInternetEnabled": true,
   "language": "python",
   "sourceType": "notebook"
  },
  "kernelspec": {
   "display_name": "Python 3",
   "language": "python",
   "name": "python3"
  },
  "language_info": {
   "codemirror_mode": {
    "name": "ipython",
    "version": 3
   },
   "file_extension": ".py",
   "mimetype": "text/x-python",
   "name": "python",
   "nbconvert_exporter": "python",
   "pygments_lexer": "ipython3",
   "version": "3.10.14"
  },
  "papermill": {
   "default_parameters": {},
   "duration": 14.04774,
   "end_time": "2024-08-25T01:40:54.509139",
   "environment_variables": {},
   "exception": null,
   "input_path": "__notebook__.ipynb",
   "output_path": "__notebook__.ipynb",
   "parameters": {},
   "start_time": "2024-08-25T01:40:40.461399",
   "version": "2.6.0"
  }
 },
 "nbformat": 4,
 "nbformat_minor": 5
}
